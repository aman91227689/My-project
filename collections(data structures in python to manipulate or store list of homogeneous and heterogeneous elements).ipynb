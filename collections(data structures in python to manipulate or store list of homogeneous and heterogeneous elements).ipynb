{
 "cells": [
  {
   "cell_type": "code",
   "execution_count": 1,
   "id": "df84b526",
   "metadata": {},
   "outputs": [
    {
     "data": {
      "text/plain": [
       "'Rohit'"
      ]
     },
     "execution_count": 1,
     "metadata": {},
     "output_type": "execute_result"
    }
   ],
   "source": [
    "batsman=['Rohit','Dhawan','Kohli','Rahane','Rayudu','Dhoni'] # list index starts with 0\n",
    "batsman[0]\n"
   ]
  },
  {
   "cell_type": "code",
   "execution_count": 2,
   "id": "aa127e13",
   "metadata": {},
   "outputs": [
    {
     "data": {
      "text/plain": [
       "['Rohit', 'Dhawan', 'Kohli', 'Rahane']"
      ]
     },
     "execution_count": 2,
     "metadata": {},
     "output_type": "execute_result"
    }
   ],
   "source": [
    "batsman[0:4] # slicing the index means list value starting from 0 until 4 but index 4 is not included"
   ]
  },
  {
   "cell_type": "code",
   "execution_count": 3,
   "id": "d752959e",
   "metadata": {},
   "outputs": [
    {
     "data": {
      "text/plain": [
       "'Dhoni'"
      ]
     },
     "execution_count": 3,
     "metadata": {},
     "output_type": "execute_result"
    }
   ],
   "source": [
    "batsman[-1] # to access the last elements in the list we can use the index -1"
   ]
  },
  {
   "cell_type": "code",
   "execution_count": 4,
   "id": "1e793c99",
   "metadata": {},
   "outputs": [
    {
     "data": {
      "text/plain": [
       "6"
      ]
     },
     "execution_count": 4,
     "metadata": {},
     "output_type": "execute_result"
    }
   ],
   "source": [
    "len(batsman) # using len() function i can find out the number of elements in the list"
   ]
  },
  {
   "cell_type": "markdown",
   "id": "775ef9f3",
   "metadata": {},
   "source": [
    "# two separate list can be concatenated into 1 list using + operator"
   ]
  },
  {
   "cell_type": "code",
   "execution_count": 5,
   "id": "da41638b",
   "metadata": {},
   "outputs": [
    {
     "name": "stdout",
     "output_type": "stream",
     "text": [
      "['Rohit', 'Dhawan', 'Kohli', 'Rahane', 'Rayudu', 'Dhoni', 'Bumrah', 'Shami', 'Bhuvi', 'Kuldeep', 'Chahal']\n"
     ]
    }
   ],
   "source": [
    "bowlers=['Bumrah','Shami','Bhuvi','Kuldeep','Chahal']\n",
    "all_players=batsman+bowlers\n",
    "print(all_players)"
   ]
  },
  {
   "cell_type": "code",
   "execution_count": 6,
   "id": "bc8957ef",
   "metadata": {},
   "outputs": [
    {
     "data": {
      "text/plain": [
       "True"
      ]
     },
     "execution_count": 6,
     "metadata": {},
     "output_type": "execute_result"
    }
   ],
   "source": [
    "# THE in operators is used to find out whether a item exist in the list or not\n",
    "'Bumrah' in bowlers"
   ]
  },
  {
   "cell_type": "code",
   "execution_count": 7,
   "id": "9bc318df",
   "metadata": {},
   "outputs": [
    {
     "data": {
      "text/plain": [
       "False"
      ]
     },
     "execution_count": 7,
     "metadata": {},
     "output_type": "execute_result"
    }
   ],
   "source": [
    "'Dhoni' in bowlers"
   ]
  },
  {
   "cell_type": "markdown",
   "id": "e7029556",
   "metadata": {},
   "source": [
    "# finding the index of an item in the list "
   ]
  },
  {
   "cell_type": "code",
   "execution_count": 8,
   "id": "afbca8d0",
   "metadata": {},
   "outputs": [
    {
     "data": {
      "text/plain": [
       "5"
      ]
     },
     "execution_count": 8,
     "metadata": {},
     "output_type": "execute_result"
    }
   ],
   "source": [
    "all_players.index(\"Dhoni\")"
   ]
  },
  {
   "cell_type": "code",
   "execution_count": 9,
   "id": "e198ce4f",
   "metadata": {},
   "outputs": [
    {
     "data": {
      "text/plain": [
       "0"
      ]
     },
     "execution_count": 9,
     "metadata": {},
     "output_type": "execute_result"
    }
   ],
   "source": [
    "bowlers.index('Bumrah')"
   ]
  },
  {
   "cell_type": "code",
   "execution_count": 10,
   "id": "63803989",
   "metadata": {},
   "outputs": [
    {
     "data": {
      "text/plain": [
       "['Chahal',\n",
       " 'Kuldeep',\n",
       " 'Bhuvi',\n",
       " 'Shami',\n",
       " 'Bumrah',\n",
       " 'Dhoni',\n",
       " 'Rayudu',\n",
       " 'Rahane',\n",
       " 'Kohli',\n",
       " 'Dhawan',\n",
       " 'Rohit']"
      ]
     },
     "execution_count": 10,
     "metadata": {},
     "output_type": "execute_result"
    }
   ],
   "source": [
    "# The items in the list can be rearranged in the reverse order using reverse() function\n",
    "all_players.reverse()\n",
    "all_players"
   ]
  },
  {
   "cell_type": "code",
   "execution_count": 11,
   "id": "87234e7a",
   "metadata": {},
   "outputs": [
    {
     "ename": "SyntaxError",
     "evalue": "invalid syntax (926345958.py, line 1)",
     "output_type": "error",
     "traceback": [
      "\u001b[1;36m  Cell \u001b[1;32mIn[11], line 1\u001b[1;36m\u001b[0m\n\u001b[1;33m    odiDebut=('kohli',2008) 3 Tuples index also starts from 0\u001b[0m\n\u001b[1;37m                            ^\u001b[0m\n\u001b[1;31mSyntaxError\u001b[0m\u001b[1;31m:\u001b[0m invalid syntax\n"
     ]
    }
   ],
   "source": [
    "odiDebut=('kohli',2008) 3 Tuples index also starts from 0\n",
    "odiDebut"
   ]
  },
  {
   "cell_type": "code",
   "execution_count": null,
   "id": "14491a98",
   "metadata": {},
   "outputs": [],
   "source": [
    "odiDebut[0]"
   ]
  },
  {
   "cell_type": "code",
   "execution_count": null,
   "id": "cc6fa66e",
   "metadata": {},
   "outputs": [],
   "source": [
    "odiDebut[1]=2009"
   ]
  },
  {
   "cell_type": "code",
   "execution_count": null,
   "id": "129e41b8",
   "metadata": {},
   "outputs": [],
   "source": [
    "tuples=tuple(all_players) # using tuple type cast i can convert a list into tuple\n",
    "tuples"
   ]
  },
  {
   "cell_type": "markdown",
   "id": "4064c1e5",
   "metadata": {},
   "source": [
    "# set:a set is a collection of unique elements ,that is ,the values cant repeat."
   ]
  },
  {
   "cell_type": "code",
   "execution_count": null,
   "id": "6bc28e21",
   "metadata": {},
   "outputs": [],
   "source": [
    "setofNumbers={1,3,4,5,6,8}\n",
    "setofNumbers"
   ]
  },
  {
   "cell_type": "markdown",
   "id": "fcb28832",
   "metadata": {},
   "source": [
    "# operations like union,intersection and difference can be performed over set"
   ]
  },
  {
   "cell_type": "code",
   "execution_count": null,
   "id": "fc80228b",
   "metadata": {},
   "outputs": [],
   "source": [
    "wc2011={\"Dhoni\",\"Sehewag\",\"Tendulkar\",\"Gambhir\",\"Kohli\",\"Raina\",\"Yuvraj\",\"Yusuf\"}\n",
    "wc2015={\"Dhoni\",\"Dhawan\",\"Rohit\",\"Rahane\",\"Kohli\",\"Raina\",\"Raiyudu\",\"Jadeja\"}\n",
    "wc2011.union(wc2015)"
   ]
  },
  {
   "cell_type": "code",
   "execution_count": null,
   "id": "ba4ffbe2",
   "metadata": {},
   "outputs": [],
   "source": [
    "wc2011.intersection(wc2015)"
   ]
  },
  {
   "cell_type": "code",
   "execution_count": null,
   "id": "804f2dec",
   "metadata": {},
   "outputs": [],
   "source": [
    "wc2015.difference(wc2011)"
   ]
  },
  {
   "cell_type": "code",
   "execution_count": null,
   "id": "8b409348",
   "metadata": {},
   "outputs": [],
   "source": [
    "wcwinners={1975:\"west indies\",1979:\"west indies\",1983:\"india\",1987:\"australia\",1991:\"pakistan\",1996:\"sri lanka\",1999:\"australia\",2003:\"australia\",2007:\"australia\",2011:\"india\"}\n",
    "wcwinners"
   ]
  },
  {
   "cell_type": "code",
   "execution_count": null,
   "id": "b53d3b35",
   "metadata": {},
   "outputs": [],
   "source": [
    "wcwinners.values()"
   ]
  }
 ],
 "metadata": {
  "kernelspec": {
   "display_name": "Python 3 (ipykernel)",
   "language": "python",
   "name": "python3"
  },
  "language_info": {
   "codemirror_mode": {
    "name": "ipython",
    "version": 3
   },
   "file_extension": ".py",
   "mimetype": "text/x-python",
   "name": "python",
   "nbconvert_exporter": "python",
   "pygments_lexer": "ipython3",
   "version": "3.11.5"
  }
 },
 "nbformat": 4,
 "nbformat_minor": 5
}
