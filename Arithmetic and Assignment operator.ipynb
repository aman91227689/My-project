{
 "cells": [
  {
   "cell_type": "markdown",
   "id": "860d21c5",
   "metadata": {},
   "source": [
    "## Addition operator"
   ]
  },
  {
   "cell_type": "code",
   "execution_count": 1,
   "id": "5129f0ac",
   "metadata": {},
   "outputs": [
    {
     "data": {
      "text/plain": [
       "134"
      ]
     },
     "execution_count": 1,
     "metadata": {},
     "output_type": "execute_result"
    }
   ],
   "source": [
    "56+78"
   ]
  },
  {
   "cell_type": "markdown",
   "id": "7fe0ac4b",
   "metadata": {},
   "source": [
    "## subtraction operator"
   ]
  },
  {
   "cell_type": "code",
   "execution_count": 2,
   "id": "ed56ad55",
   "metadata": {},
   "outputs": [
    {
     "data": {
      "text/plain": [
       "62"
      ]
     },
     "execution_count": 2,
     "metadata": {},
     "output_type": "execute_result"
    }
   ],
   "source": [
    "67-5"
   ]
  },
  {
   "cell_type": "markdown",
   "id": "9e57cbba",
   "metadata": {},
   "source": [
    "## Multiplication operator"
   ]
  },
  {
   "cell_type": "code",
   "execution_count": 3,
   "id": "3f93f238",
   "metadata": {},
   "outputs": [
    {
     "data": {
      "text/plain": [
       "3752"
      ]
     },
     "execution_count": 3,
     "metadata": {},
     "output_type": "execute_result"
    }
   ],
   "source": [
    "56*67"
   ]
  },
  {
   "cell_type": "markdown",
   "id": "a89adb03",
   "metadata": {},
   "source": [
    "## division operator"
   ]
  },
  {
   "cell_type": "code",
   "execution_count": 4,
   "id": "1c054b40",
   "metadata": {},
   "outputs": [
    {
     "data": {
      "text/plain": [
       "9.333333333333334"
      ]
     },
     "execution_count": 4,
     "metadata": {},
     "output_type": "execute_result"
    }
   ],
   "source": [
    "56/6"
   ]
  },
  {
   "cell_type": "markdown",
   "id": "5e672c9c",
   "metadata": {},
   "source": [
    "## Modulus operator"
   ]
  },
  {
   "cell_type": "code",
   "execution_count": 5,
   "id": "a9be398d",
   "metadata": {},
   "outputs": [
    {
     "data": {
      "text/plain": [
       "2"
      ]
     },
     "execution_count": 5,
     "metadata": {},
     "output_type": "execute_result"
    }
   ],
   "source": [
    "56%3"
   ]
  },
  {
   "cell_type": "markdown",
   "id": "22ace6ef",
   "metadata": {},
   "source": [
    "## x+=y x=x+y"
   ]
  },
  {
   "cell_type": "code",
   "execution_count": 6,
   "id": "19c4687e",
   "metadata": {},
   "outputs": [
    {
     "name": "stdout",
     "output_type": "stream",
     "text": [
      "14\n"
     ]
    }
   ],
   "source": [
    "x=6\n",
    "y=8\n",
    "x+=y\n",
    "print(x)"
   ]
  },
  {
   "cell_type": "markdown",
   "id": "c46a5271",
   "metadata": {},
   "source": [
    "## x-=y x=x-y"
   ]
  },
  {
   "cell_type": "code",
   "execution_count": 7,
   "id": "b393fb13",
   "metadata": {},
   "outputs": [
    {
     "data": {
      "text/plain": [
       "2"
      ]
     },
     "execution_count": 7,
     "metadata": {},
     "output_type": "execute_result"
    }
   ],
   "source": [
    "x=8\n",
    "y=6\n",
    "x-=y\n",
    "x"
   ]
  },
  {
   "cell_type": "markdown",
   "id": "f3052479",
   "metadata": {},
   "source": [
    "## x*=y x=x*y"
   ]
  },
  {
   "cell_type": "code",
   "execution_count": 8,
   "id": "eaf24c7a",
   "metadata": {},
   "outputs": [
    {
     "data": {
      "text/plain": [
       "42"
      ]
     },
     "execution_count": 8,
     "metadata": {},
     "output_type": "execute_result"
    }
   ],
   "source": [
    "x=6\n",
    "y=7\n",
    "x*=y\n",
    "x"
   ]
  },
  {
   "cell_type": "markdown",
   "id": "cedda713",
   "metadata": {},
   "source": [
    "## x/=y x=x/y"
   ]
  },
  {
   "cell_type": "code",
   "execution_count": 9,
   "id": "4a5b2c15",
   "metadata": {},
   "outputs": [
    {
     "data": {
      "text/plain": [
       "13.4"
      ]
     },
     "execution_count": 9,
     "metadata": {},
     "output_type": "execute_result"
    }
   ],
   "source": [
    "x=67\n",
    "y=5\n",
    "x/=y\n",
    "x"
   ]
  },
  {
   "cell_type": "markdown",
   "id": "d1850323",
   "metadata": {},
   "source": [
    "## x%=y x=x%y"
   ]
  },
  {
   "cell_type": "code",
   "execution_count": 10,
   "id": "3dbd9ea4",
   "metadata": {},
   "outputs": [
    {
     "data": {
      "text/plain": [
       "0"
      ]
     },
     "execution_count": 10,
     "metadata": {},
     "output_type": "execute_result"
    }
   ],
   "source": [
    "x=56\n",
    "y=4\n",
    "x%=y\n",
    "x"
   ]
  }
 ],
 "metadata": {
  "kernelspec": {
   "display_name": "Python 3 (ipykernel)",
   "language": "python",
   "name": "python3"
  },
  "language_info": {
   "codemirror_mode": {
    "name": "ipython",
    "version": 3
   },
   "file_extension": ".py",
   "mimetype": "text/x-python",
   "name": "python",
   "nbconvert_exporter": "python",
   "pygments_lexer": "ipython3",
   "version": "3.11.5"
  }
 },
 "nbformat": 4,
 "nbformat_minor": 5
}
